{
  "cells": [
    {
      "metadata": {
        "_uuid": "8f2839f25d086af736a60e9eeb907d3b93b6e0e5",
        "_cell_guid": "b1076dfc-b9ad-4769-8c92-a6c4dae69d19",
        "trusted": true
      },
      "cell_type": "code",
      "source": "import pandas as pd\nimport matplotlib.pyplot as plt\nimport numpy as np\nimport seaborn as sn\n\ndataset = pd.read_csv('../input/churn_data.csv') ",
      "execution_count": null,
      "outputs": []
    },
    {
      "metadata": {
        "_cell_guid": "79c7e3d0-c299-4dcb-8224-4455121ee9b0",
        "_uuid": "d629ff2d2480ee46fbb7e2d37f6b5fab8052498a",
        "trusted": true
      },
      "cell_type": "code",
      "source": "dataset.head(5) # Viewing the Data\n",
      "execution_count": null,
      "outputs": []
    },
    {
      "metadata": {
        "trusted": true,
        "_uuid": "bbfe8d994351b51b6c12329ce0f6ab52a60bf442"
      },
      "cell_type": "code",
      "source": "dataset.columns",
      "execution_count": null,
      "outputs": []
    },
    {
      "metadata": {
        "trusted": true,
        "_uuid": "81cd33361b1f787410ebf0769b33927b7f9a6a3d"
      },
      "cell_type": "code",
      "source": "dataset.describe()",
      "execution_count": null,
      "outputs": []
    },
    {
      "metadata": {
        "trusted": true,
        "_uuid": "c66f5045f0ec76374ffb15d5c4857bc55045fe81"
      },
      "cell_type": "code",
      "source": "dataset[dataset.credit_score < 300]\ndataset = dataset[dataset.credit_score >= 300]",
      "execution_count": null,
      "outputs": []
    },
    {
      "metadata": {
        "trusted": true,
        "_uuid": "5b850a7176f0d5dfd2433988c0e530081a361e80"
      },
      "cell_type": "code",
      "source": "# Removing NaN\ndataset.isna().any()\ndataset.isna().sum()\ndataset = dataset.drop(columns = ['credit_score', 'rewards_earned'])",
      "execution_count": null,
      "outputs": []
    },
    {
      "metadata": {
        "trusted": true,
        "_uuid": "6bdbe279a034e81ba16e98a9d7e06c0eae734d42"
      },
      "cell_type": "code",
      "source": "## Pie Plots\ndataset3 = dataset[['housing', 'is_referred', 'app_downloaded',\n                    'web_user', 'app_web_user', 'ios_user',\n                    'android_user', 'registered_phones', 'payment_type',\n                    'waiting_4_loan', 'cancelled_loan',\n                    'received_loan', 'rejected_loan', 'zodiac_sign',\n                    'left_for_two_month_plus', 'left_for_one_month', 'is_referred']]\nfig = plt.figure(figsize=(15, 12))\nplt.suptitle('Pie Chart Distributions', fontsize=20)\nfor i in range(1, dataset3.shape[1] + 1):\n    plt.subplot(6, 3, i)\n    f = plt.gca()\n    f.axes.get_yaxis().set_visible(False)\n    f.set_title(dataset2.columns.values[i - 1])\n   \n    values = dataset3.iloc[:, i - 1].value_counts(normalize = True).values\n    index = dataset3.iloc[:, i - 1].value_counts(normalize = True).index\n    plt.pie(values, labels = index, autopct='%1.1f%%')\n    plt.axis('equal')\nfig.tight_layout(rect=[0, 0.03, 1, 0.95])",
      "execution_count": null,
      "outputs": []
    },
    {
      "metadata": {
        "trusted": true,
        "_uuid": "777e0650e6925fc742e2a4c431c959ec63db7c5a"
      },
      "cell_type": "code",
      "source": "## Exploring Uneven Features\ndataset[dataset3.waiting_4_loan == 1].churn.value_counts()\ndataset[dataset3.cancelled_loan == 1].churn.value_counts()\ndataset[dataset3.received_loan == 1].churn.value_counts()\ndataset[dataset3.rejected_loan == 1].churn.value_counts()\ndataset[dataset3.left_for_one_month == 1].churn.value_counts()",
      "execution_count": null,
      "outputs": []
    },
    {
      "metadata": {
        "trusted": true,
        "_uuid": "3111446c058c1c94a67ec1f5e273fda48f724206"
      },
      "cell_type": "code",
      "source": "## Correlation with Response Variable\ndataset3.drop(columns = ['housing', 'payment_type',\n                         'registered_phones', 'zodiac_sign']\n    ).corrwith(dataset.churn).plot.bar(figsize=(20,10),\n              title = 'Correlation with Response variable',\n              fontsize = 15, rot = 45,\n              grid = True)",
      "execution_count": null,
      "outputs": []
    },
    {
      "metadata": {
        "trusted": true,
        "_uuid": "b9918cc7b5317d3af2b91e6347164c71e7eb8ae0"
      },
      "cell_type": "code",
      "source": "## Correlation Matrix\nsn.set(style=\"white\")",
      "execution_count": null,
      "outputs": []
    },
    {
      "metadata": {
        "trusted": true,
        "_uuid": "65e4f23a6894c284325c18d4fcaf94fd85831409"
      },
      "cell_type": "code",
      "source": "# Compute the correlation matrix\ncorr = dataset.drop(columns = ['user', 'churn']).corr()",
      "execution_count": null,
      "outputs": []
    },
    {
      "metadata": {
        "trusted": true,
        "_uuid": "f5603898641273fb09705183062ff8b6a8c499b6"
      },
      "cell_type": "code",
      "source": "# Generate a mask for the upper triangle\nmask = np.zeros_like(corr, dtype=np.bool)\nmask[np.triu_indices_from(mask)] = True",
      "execution_count": null,
      "outputs": []
    },
    {
      "metadata": {
        "trusted": true,
        "_uuid": "b6ddcffdca523a8f84bc597021644201e89c4fe6"
      },
      "cell_type": "code",
      "source": "# Draw the heatmap with the mask and correct aspect ratio\n# Set up the matplotlib figure\nf, ax = plt.subplots(figsize=(18, 15))\n# Generate a custom diverging colormap\ncmap = sn.diverging_palette(220, 10, as_cmap=True)\nsn.heatmap(corr, mask=mask, cmap=cmap, vmax=.3, center=0,\n            square=True, linewidths=.5, cbar_kws={\"shrink\": .5})",
      "execution_count": null,
      "outputs": []
    },
    {
      "metadata": {
        "trusted": true,
        "_uuid": "778dd29718f9deba575b0a63bfa85c2c13a73692"
      },
      "cell_type": "code",
      "source": "# Removing Correlated Fields\ndataset = dataset.drop(columns = ['app_web_user'])\n",
      "execution_count": null,
      "outputs": []
    },
    {
      "metadata": {
        "trusted": true,
        "_uuid": "50c6a4b842289526f9850c6875c1b2e5ee36e9cf"
      },
      "cell_type": "code",
      "source": "## Data Preparation\nuser_identifier = dataset['user']\ndataset = dataset.drop(columns = ['user'])\n",
      "execution_count": null,
      "outputs": []
    },
    {
      "metadata": {
        "trusted": true,
        "_uuid": "c3fbedb8cd96b8c66ea672a57a47bf8c92a8eec4"
      },
      "cell_type": "code",
      "source": "# One-Hot Encoding\ndataset.housing.value_counts()\ndataset.groupby('housing')['churn'].nunique().reset_index()\ndataset = pd.get_dummies(dataset)\ndataset.columns\ndataset = dataset.drop(columns = ['housing_na', 'zodiac_sign_na', 'payment_type_na'])",
      "execution_count": null,
      "outputs": []
    },
    {
      "metadata": {
        "trusted": true,
        "_uuid": "f27befd11e2ebf3381ae32dbc99255f4bfb050a7"
      },
      "cell_type": "code",
      "source": "# Splitting the dataset into the Training set and Test set\nfrom sklearn.model_selection import train_test_split\nX_train, X_test, y_train, y_test = train_test_split(dataset.drop(columns = 'churn'), dataset['churn'],\n                                                    test_size = 0.2,\n                                                    random_state = 0)\n",
      "execution_count": null,
      "outputs": []
    },
    {
      "metadata": {
        "trusted": true,
        "_uuid": "d1d348ff78e21451d9fe0b5c82f907b932d5a1fe"
      },
      "cell_type": "code",
      "source": "# Balancing the Training Set\ny_train.value_counts()\n\npos_index = y_train[y_train.values == 1].index\nneg_index = y_train[y_train.values == 0].index\n\nif len(pos_index) > len(neg_index):\n    higher = pos_index\n    lower = neg_index\nelse:\n    higher = neg_index\n    lower = pos_index\n\n#random.seed(0)\nhigher = np.random.choice(higher, size=len(lower))\nlower = np.asarray(lower)\nnew_indexes = np.concatenate((lower, higher))\n\nX_train = X_train.loc[new_indexes,]\ny_train = y_train[new_indexes]\n",
      "execution_count": null,
      "outputs": []
    },
    {
      "metadata": {
        "trusted": true,
        "_uuid": "5c1f7ded009dd3fc47d086d2a2ad825f7a76e0dc"
      },
      "cell_type": "code",
      "source": "\n# Feature Scaling\nfrom sklearn.preprocessing import StandardScaler\nsc_X = StandardScaler()\nX_train2 = pd.DataFrame(sc_X.fit_transform(X_train))\nX_test2 = pd.DataFrame(sc_X.transform(X_test))\nX_train2.columns = X_train.columns.values\nX_test2.columns = X_test.columns.values\nX_train2.index = X_train.index.values\nX_test2.index = X_test.index.values\nX_train = X_train2\nX_test = X_test2",
      "execution_count": null,
      "outputs": []
    },
    {
      "metadata": {
        "trusted": true,
        "_uuid": "bc5893c1cae5247b22e945f435c3f48e5c9035cf"
      },
      "cell_type": "code",
      "source": "#### Model Building ####\n\n\n# Fitting Model to the Training Set\nfrom sklearn.linear_model import LogisticRegression\nclassifier = LogisticRegression(random_state = 0)\nclassifier.fit(X_train, y_train)",
      "execution_count": null,
      "outputs": []
    },
    {
      "metadata": {
        "trusted": true,
        "_uuid": "19dadbc56ba0b89e0ba45abe5d277e35f7fdc4a8"
      },
      "cell_type": "code",
      "source": "# Predicting Test Set\ny_pred = classifier.predict(X_test)",
      "execution_count": null,
      "outputs": []
    },
    {
      "metadata": {
        "trusted": true,
        "_uuid": "9b627d5c5e2e46ca8e9e18af877ca5e1ceaf02f6"
      },
      "cell_type": "code",
      "source": "# Evaluating Results\nfrom sklearn.metrics import confusion_matrix, accuracy_score, f1_score, precision_score, recall_score\ncm = confusion_matrix(y_test, y_pred)\naccuracy_score(y_test, y_pred)\nprecision_score(y_test, y_pred) # tp / (tp + fp)\nrecall_score(y_test, y_pred) # tp / (tp + fn)\nf1_score(y_test, y_pred)\n\ndf_cm = pd.DataFrame(cm, index = (0, 1), columns = (0, 1))\nplt.figure(figsize = (10,7))\nsn.set(font_scale=1.4)\nsn.heatmap(df_cm, annot=True, fmt='g')\nprint(\"Test Data Accuracy: %0.4f\" % accuracy_score(y_test, y_pred))",
      "execution_count": null,
      "outputs": []
    },
    {
      "metadata": {
        "trusted": true,
        "_uuid": "4b7b73b32ed26a1d7db7ab6469f8668c76128586"
      },
      "cell_type": "code",
      "source": "# Applying k-Fold Cross Validation\nfrom sklearn.model_selection import cross_val_score\naccuracies = cross_val_score(estimator = classifier, X = X_train, y = y_train, cv = 10)\nprint(\"SVM Accuracy: %0.3f (+/- %0.3f)\" % (accuracies.mean(), accuracies.std() * 2))",
      "execution_count": null,
      "outputs": []
    },
    {
      "metadata": {
        "trusted": true,
        "_uuid": "1103c20a8be8e755806441a4a443d5f65bdee151"
      },
      "cell_type": "code",
      "source": "# Analyzing Coefficients\npd.concat([pd.DataFrame(X_train.columns, columns = [\"features\"]),\n           pd.DataFrame(np.transpose(classifier.coef_), columns = [\"coef\"])\n           ],axis = 1)",
      "execution_count": null,
      "outputs": []
    },
    {
      "metadata": {
        "trusted": true,
        "_uuid": "f69050448a88cebddaa0d17c96f35de58937ae98"
      },
      "cell_type": "code",
      "source": "#### Feature Selection ####\n\n\n## Feature Selection\n# Recursive Feature Elimination\nfrom sklearn.feature_selection import RFE\nfrom sklearn.linear_model import LogisticRegression\n",
      "execution_count": null,
      "outputs": []
    },
    {
      "metadata": {
        "trusted": true,
        "_uuid": "cbe392b0e7f4bc3b11d2c043deb4de8539f5323f"
      },
      "cell_type": "code",
      "source": "# Model to Test\nclassifier = LogisticRegression()",
      "execution_count": null,
      "outputs": []
    },
    {
      "metadata": {
        "trusted": true,
        "_uuid": "40755dadd89724834e5a14601b3240d3ad65fa19"
      },
      "cell_type": "code",
      "source": "# Select Best X Features\nrfe = RFE(classifier, 20)\nrfe = rfe.fit(X_train, y_train)",
      "execution_count": null,
      "outputs": []
    },
    {
      "metadata": {
        "trusted": true,
        "_uuid": "fa49cbc72668a5ca5948ed54c0fcaeefde797c73"
      },
      "cell_type": "code",
      "source": "# summarize the selection of the attributes\nprint(rfe.support_)\nprint(rfe.ranking_)\nX_train.columns[rfe.support_]",
      "execution_count": null,
      "outputs": []
    },
    {
      "metadata": {
        "trusted": true,
        "_uuid": "838ccb9161f02a6ed5cc5a35e43aa4e448a5cc5b"
      },
      "cell_type": "code",
      "source": "# New Correlation Matrix\nsn.set(style=\"white\")",
      "execution_count": null,
      "outputs": []
    },
    {
      "metadata": {
        "trusted": true,
        "_uuid": "fe41ca7a4af5d23cfde14bb0bf9efba4d30069bf"
      },
      "cell_type": "code",
      "source": "# Compute the correlation matrix\ncorr = X_train[X_train.columns[rfe.support_]].corr()",
      "execution_count": null,
      "outputs": []
    },
    {
      "metadata": {
        "trusted": true,
        "_uuid": "b69c3ae7083c363a3fd280fe3fa0dd89f802dc45"
      },
      "cell_type": "code",
      "source": "# Generate a mask for the upper triangle\nmask = np.zeros_like(corr, dtype=np.bool)\nmask[np.triu_indices_from(mask)] = True",
      "execution_count": null,
      "outputs": []
    },
    {
      "metadata": {
        "trusted": true,
        "_uuid": "69558a7f8ed0f62a931c16c4c5d2ac39fb6ab60e"
      },
      "cell_type": "code",
      "source": "# Set up the matplotlib figure\nf, ax = plt.subplots(figsize=(18, 15))\n\n# Generate a custom diverging colormap\ncmap = sn.diverging_palette(220, 10, as_cmap=True)\n\n# Draw the heatmap with the mask and correct aspect ratio\nsn.heatmap(corr, mask=mask, cmap=cmap, vmax=.3, center=0,\n            square=True, linewidths=.5, cbar_kws={\"shrink\": .5})",
      "execution_count": null,
      "outputs": []
    },
    {
      "metadata": {
        "trusted": true,
        "_uuid": "ab1eab59dc01ffb087d81c618dbfde87ed2995bf"
      },
      "cell_type": "code",
      "source": "# Fitting Model to the Training Set\nfrom sklearn.linear_model import LogisticRegression\nclassifier = LogisticRegression()\nclassifier.fit(X_train[X_train.columns[rfe.support_]], y_train)",
      "execution_count": null,
      "outputs": []
    },
    {
      "metadata": {
        "trusted": true,
        "_uuid": "e9ab060fe61171f0827060a0978529116c2a85cd"
      },
      "cell_type": "code",
      "source": "# Predicting Test Set\ny_pred = classifier.predict(X_test[X_train.columns[rfe.support_]])\n",
      "execution_count": null,
      "outputs": []
    },
    {
      "metadata": {
        "trusted": true,
        "_uuid": "28197711d2763d174ec731c43882a696135637d8"
      },
      "cell_type": "code",
      "source": "# Evaluating Results\nfrom sklearn.metrics import confusion_matrix, accuracy_score, f1_score, precision_score, recall_score\ncm = confusion_matrix(y_test, y_pred)\naccuracy_score(y_test, y_pred)\nprecision_score(y_test, y_pred) # tp / (tp + fp)\nrecall_score(y_test, y_pred) # tp / (tp + fn)\nf1_score(y_test, y_pred)\ndf_cm = pd.DataFrame(cm, index = (1, 0), columns = (1, 0))\nplt.figure(figsize = (10,7))\nsn.set(font_scale=1.4)\nsn.heatmap(df_cm, annot=True, fmt='g')\nprint(\"Test Data Accuracy: %0.4f\" % accuracy_score(y_test, y_pred))",
      "execution_count": null,
      "outputs": []
    },
    {
      "metadata": {
        "trusted": true,
        "_uuid": "e60a6b6d2dea7f6983e7c6557953404727413f16"
      },
      "cell_type": "code",
      "source": "# Applying k-Fold Cross Validation\nfrom sklearn.model_selection import cross_val_score\naccuracies = cross_val_score(estimator = classifier,\n                             X = X_train[X_train.columns[rfe.support_]],\n                             y = y_train, cv = 10)\nprint(\"SVM Accuracy: %0.3f (+/- %0.3f)\" % (accuracies.mean(), accuracies.std() * 2))\n",
      "execution_count": null,
      "outputs": []
    },
    {
      "metadata": {
        "trusted": true,
        "_uuid": "56e406aeddca709937874965807d76544193c904"
      },
      "cell_type": "code",
      "source": "# Analyzing Coefficients\npd.concat([pd.DataFrame(X_train[X_train.columns[rfe.support_]].columns, columns = [\"features\"]),\n           pd.DataFrame(np.transpose(classifier.coef_), columns = [\"coef\"])\n           ],axis = 1)\n",
      "execution_count": null,
      "outputs": []
    },
    {
      "metadata": {
        "trusted": true,
        "_uuid": "012105019e4efd9f00ebda2928824e380b8406b3"
      },
      "cell_type": "code",
      "source": "#### End of Model ####\n\n\n# Formatting Final Results\nfinal_results = pd.concat([y_test, user_identifier], axis = 1).dropna()\nfinal_results['predicted_churn'] = y_pred\nfinal_results = final_results[['user', 'churn', 'predicted_churn']].reset_index(drop=True)",
      "execution_count": null,
      "outputs": []
    },
    {
      "metadata": {
        "trusted": true,
        "_uuid": "ef30689fd98a954d4d395b1dffa7138fe9b49f77"
      },
      "cell_type": "code",
      "source": "",
      "execution_count": null,
      "outputs": []
    },
    {
      "metadata": {
        "trusted": true,
        "_uuid": "a14a0b08520eaf6c767740805dfa79ef8bfbb873"
      },
      "cell_type": "code",
      "source": "",
      "execution_count": null,
      "outputs": []
    }
  ],
  "metadata": {
    "kernelspec": {
      "display_name": "Python 3",
      "language": "python",
      "name": "python3"
    },
    "language_info": {
      "name": "python",
      "version": "3.6.6",
      "mimetype": "text/x-python",
      "codemirror_mode": {
        "name": "ipython",
        "version": 3
      },
      "pygments_lexer": "ipython3",
      "nbconvert_exporter": "python",
      "file_extension": ".py"
    }
  },
  "nbformat": 4,
  "nbformat_minor": 1
}